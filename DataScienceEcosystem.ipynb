{
 "cells": [
  {
   "cell_type": "markdown",
   "id": "e9da5443-7e5b-4c1b-9529-2695eca400bf",
   "metadata": {
    "tags": []
   },
   "source": [
    "# Data Science Tools and Ecosystem"
   ]
  },
  {
   "cell_type": "markdown",
   "id": "f37cb381-b007-4bde-ac7d-c60e187b0137",
   "metadata": {},
   "source": [
    "### In this notebook, Data Science Tools and Ecosystem are summarized."
   ]
  },
  {
   "cell_type": "markdown",
   "id": "f2aa151a-ed94-4093-a350-181a8da39f75",
   "metadata": {},
   "source": [
    "#### Some of the popular languages that Data Scientists use are:\n",
    "\n",
    "1. Python\n",
    "2. R\n",
    "3. SQL\n",
    "4. Julia\n"
   ]
  },
  {
   "cell_type": "markdown",
   "id": "676d675e-dd12-4c45-bfcf-850f23e88568",
   "metadata": {},
   "source": [
    "#### Some of the commonly used libraries used by Data Scientists include:\n",
    "\n",
    "1. TensorFlow\n",
    "2. NumPy\n",
    "3. SciPy \n",
    "4. Pandas\n"
   ]
  },
  {
   "cell_type": "markdown",
   "id": "dd78d6c9-8035-4c2a-b291-4e0c9dc87401",
   "metadata": {
    "jp-MarkdownHeadingCollapsed": true,
    "tags": []
   },
   "source": [
    "| Data Science Tools |\n",
    "----------------------\n",
    "| R Studio |\n",
    "| Jupyter Notebook |\n",
    "| Apache Spark |\n",
    "| TensorFlow |"
   ]
  },
  {
   "cell_type": "markdown",
   "id": "bd66423a-58ce-49ef-9afb-7269068f9b2d",
   "metadata": {},
   "source": [
    "### Below are a few examples of evaluating arithmetic expressions in Python"
   ]
  },
  {
   "cell_type": "code",
   "execution_count": 29,
   "id": "8265c828-5830-4232-8ced-374591be4cf8",
   "metadata": {
    "tags": []
   },
   "outputs": [
    {
     "data": {
      "text/plain": [
       "17"
      ]
     },
     "execution_count": 29,
     "metadata": {},
     "output_type": "execute_result"
    }
   ],
   "source": [
    "# This a simple arithmetic expression to mutiply then add integers\n",
    "(3*4)+5\n"
   ]
  },
  {
   "cell_type": "code",
   "execution_count": 31,
   "id": "9c35af46-d3ca-4be3-810e-439ee775c3e0",
   "metadata": {
    "tags": []
   },
   "outputs": [
    {
     "data": {
      "text/plain": [
       "3.3333333333333335"
      ]
     },
     "execution_count": 31,
     "metadata": {},
     "output_type": "execute_result"
    }
   ],
   "source": [
    "# This will convert 200 minutes to hours by diving by 60\n",
    "(200/60)"
   ]
  },
  {
   "cell_type": "markdown",
   "id": "40d94447-a579-41ba-b279-7252ed5778eb",
   "metadata": {},
   "source": [
    "### Objectives:\n",
    "+ List Popular languages that Data Scientists use\n",
    "+ List Libraries used by Data Scientists\n",
    "+ List Data Science Tools\n",
    "+ How to Evaluate arithmetic expressions"
   ]
  },
  {
   "cell_type": "markdown",
   "id": "c49a5afe-0250-4599-83bb-6ef9515820fa",
   "metadata": {},
   "source": [
    "## Author\n",
    "##### Flor McCarthy"
   ]
  },
  {
   "cell_type": "code",
   "execution_count": null,
   "id": "9a4a1240-acc1-4773-b8e8-94fc27c21ba5",
   "metadata": {},
   "outputs": [],
   "source": []
  }
 ],
 "metadata": {
  "kernelspec": {
   "display_name": "Python 3 (ipykernel)",
   "language": "python",
   "name": "python3"
  },
  "language_info": {
   "codemirror_mode": {
    "name": "ipython",
    "version": 3
   },
   "file_extension": ".py",
   "mimetype": "text/x-python",
   "name": "python",
   "nbconvert_exporter": "python",
   "pygments_lexer": "ipython3",
   "version": "3.11.7"
  }
 },
 "nbformat": 4,
 "nbformat_minor": 5
}
